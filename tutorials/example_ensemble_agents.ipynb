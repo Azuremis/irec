{
 "cells": [
  {
   "cell_type": "code",
   "execution_count": 25,
   "metadata": {},
   "outputs": [],
   "source": [
    "from irec.recommendation.agents.value_functions import LinearUCB, MostPopular, GenericThompsonSampling, EGreedy\n",
    "from irec.recommendation.agents.action_selection_policies import ASPGenericGreedy, ASPGreedy\n",
    "from irec.offline_experiments.metric_evaluators import UserCumulativeInteraction\n",
    "from irec.offline_experiments.evaluation_policies import FixedInteraction\n",
    "from irec.recommendation.agents import SimpleEnsembleAgent, SimpleAgent\n",
    "from irec.offline_experiments.metrics import Hits, EPC, Recall, ILD\n",
    "from irec.environment.loader import FullData"
   ]
  },
  {
   "cell_type": "code",
   "execution_count": 26,
   "metadata": {},
   "outputs": [],
   "source": [
    "import pandas as pd\n",
    "import numpy as np"
   ]
  },
  {
   "attachments": {},
   "cell_type": "markdown",
   "metadata": {},
   "source": [
    "## Load Dataset"
   ]
  },
  {
   "cell_type": "code",
   "execution_count": 27,
   "metadata": {},
   "outputs": [
    {
     "name": "stdout",
     "output_type": "stream",
     "text": [
      "\n",
      "Applying splitting strategy: global\n",
      "\n",
      "Test shape: (16892, 4)\n",
      "Train shape: (80393, 4)\n",
      "\n",
      "Generating x_validation and y_validation: \n",
      "Test shape: (15729, 4)\n",
      "Train shape: (61345, 4)\n"
     ]
    }
   ],
   "source": [
    "# Dataset\n",
    "dataset = {\n",
    "    'path': \"datasets/MovieLens 100k/ratings.csv\",\n",
    "    'random_seed': 0,\n",
    "    'file_delimiter': \",\",\n",
    "    'skip_head': True\n",
    "}\n",
    "# Splitting\n",
    "splitting = {'strategy': \"global\", 'train_size': 0.8, 'test_consumes': 5}\n",
    "validation = {'validation_size': 0.2}\n",
    "# Loader\n",
    "loader = FullData(dataset, splitting, validation)\n",
    "train_dataset, test_dataset, x_validation, y_validation = loader.process()"
   ]
  },
  {
   "attachments": {},
   "cell_type": "markdown",
   "metadata": {},
   "source": [
    "## Creating the agents"
   ]
  },
  {
   "cell_type": "code",
   "execution_count": 30,
   "metadata": {},
   "outputs": [],
   "source": [
    "params = {\n",
    "    \"LinearUCB\": {\"alpha\": 1.0, \"item_var\": 0.01, \"iterations\": 20, \"num_lat\": 20, \"stop_criteria\": 0.0009, \"user_var\": 0.01, \"var\": 0.05},\n",
    "    \"MostPopular\": {},\n",
    "    \"EGreedy\": {},\n",
    "    \"GenericThompsonSampling\": {\"alpha_0\": {\"LinearUCB\": 100, \"MostPopular\": 1}, \"beta_0\": {\"LinearUCB\": 100, \"MostPopular\": 1}},\n",
    "}"
   ]
  },
  {
   "cell_type": "markdown",
   "metadata": {},
   "source": [
    "### Creating the simple agents"
   ]
  },
  {
   "cell_type": "code",
   "execution_count": 31,
   "metadata": {},
   "outputs": [],
   "source": [
    "vf1 = LinearUCB(**params[\"LinearUCB\"])\n",
    "vf2 = MostPopular(**params[\"MostPopular\"])\n",
    "vf3 = EGreedy(**params[\"EGreedy\"])\n",
    "\n",
    "asp_sa = ASPGreedy()\n",
    "\n",
    "agent1 = SimpleAgent(vf1, asp_sa, name=\"LinearUCB\")\n",
    "agent2 = SimpleAgent(vf2, asp_sa, name=\"MostPopular\")\n",
    "agent3 = SimpleAgent(vf3, asp_sa, name=\"EGreedy\")"
   ]
  },
  {
   "attachments": {},
   "cell_type": "markdown",
   "metadata": {},
   "source": [
    "### Creating the Ensemble Agent"
   ]
  },
  {
   "cell_type": "code",
   "execution_count": 32,
   "metadata": {},
   "outputs": [],
   "source": [
    "asp_sea = ASPGenericGreedy()\n",
    "vf_sea = GenericThompsonSampling(**params[\"GenericThompsonSampling\"])\n",
    "ensemble_agent = SimpleEnsembleAgent(\n",
    "    agents=[agent1, agent2],\n",
    "    action_selection_policy=asp_sea,\n",
    "    name=\"EnsembleAgent\",\n",
    "    value_function=vf_sea\n",
    ")"
   ]
  },
  {
   "cell_type": "code",
   "execution_count": 33,
   "metadata": {},
   "outputs": [],
   "source": [
    "agents = [agent1, agent2, agent3, ensemble_agent]"
   ]
  },
  {
   "attachments": {},
   "cell_type": "markdown",
   "metadata": {},
   "source": [
    "## Getting the recommendations"
   ]
  },
  {
   "cell_type": "code",
   "execution_count": 34,
   "metadata": {},
   "outputs": [],
   "source": [
    "eval_policy = FixedInteraction(num_interactions=100, interaction_size=1, save_info=False)"
   ]
  },
  {
   "cell_type": "code",
   "execution_count": 35,
   "metadata": {},
   "outputs": [
    {
     "name": "stdout",
     "output_type": "stream",
     "text": [
      "LinearUCB\n",
      "Starting LinearUCB Training\n"
     ]
    },
    {
     "name": "stderr",
     "output_type": "stream",
     "text": [
      "rmse=0.800: 100%|██████████| 20/20 [00:24<00:00,  1.21s/it]\n"
     ]
    },
    {
     "name": "stdout",
     "output_type": "stream",
     "text": [
      "Ended LinearUCB Training\n"
     ]
    },
    {
     "name": "stderr",
     "output_type": "stream",
     "text": [
      "LinearUCB: 100%|██████████| 18900/18900 [00:24<00:00, 759.71it/s]\n"
     ]
    },
    {
     "name": "stdout",
     "output_type": "stream",
     "text": [
      "MostPopular\n",
      "Starting MostPopular Training\n",
      "Ended MostPopular Training\n"
     ]
    },
    {
     "name": "stderr",
     "output_type": "stream",
     "text": [
      "MostPopular: 100%|██████████| 18900/18900 [00:04<00:00, 4266.61it/s]\n"
     ]
    },
    {
     "name": "stdout",
     "output_type": "stream",
     "text": [
      "EGreedy\n",
      "Starting EGreedy Training\n",
      "Ended EGreedy Training\n"
     ]
    },
    {
     "name": "stderr",
     "output_type": "stream",
     "text": [
      "EGreedy: 100%|██████████| 18900/18900 [00:03<00:00, 6151.87it/s]\n"
     ]
    },
    {
     "name": "stdout",
     "output_type": "stream",
     "text": [
      "EnsembleAgent\n",
      "Starting EnsembleAgent Training\n"
     ]
    },
    {
     "name": "stderr",
     "output_type": "stream",
     "text": [
      "rmse=0.800: 100%|██████████| 20/20 [00:20<00:00,  1.04s/it]\n"
     ]
    },
    {
     "name": "stdout",
     "output_type": "stream",
     "text": [
      "Ended EnsembleAgent Training\n"
     ]
    },
    {
     "name": "stderr",
     "output_type": "stream",
     "text": [
      "EnsembleAgent: 100%|██████████| 18900/18900 [00:27<00:00, 682.31it/s] \n"
     ]
    }
   ],
   "source": [
    "interactions = {}\n",
    "for agent in agents:\n",
    "    print(agent.name)\n",
    "    agent_interactions, action_info = eval_policy.evaluate(agent, train_dataset, test_dataset)\n",
    "    interactions[agent.name] = agent_interactions"
   ]
  },
  {
   "cell_type": "markdown",
   "metadata": {},
   "source": [
    "### Evaluating the models"
   ]
  },
  {
   "cell_type": "code",
   "execution_count": 37,
   "metadata": {},
   "outputs": [],
   "source": [
    "# Cumulative Evaluation Setup\n",
    "evaluator = UserCumulativeInteraction(\n",
    "    ground_truth_dataset=test_dataset,\n",
    "    num_interactions=100,\n",
    "    interaction_size=1,\n",
    "    interactions_to_evaluate=[5, 10, 20, 50, 100],\n",
    "    relevance_evaluator_threshold=3.99\n",
    ")"
   ]
  },
  {
   "cell_type": "code",
   "execution_count": null,
   "metadata": {},
   "outputs": [],
   "source": [
    "# Getting the results\n",
    "cumulative_results = {}\n",
    "for metric_class in [Hits, EPC, Recall, ILD]:\n",
    "    for agent_name, agent_results in interactions.items():\n",
    "        print(f\"\\nEvaluating {agent_name}\\n\")\n",
    "        metric_values = evaluator.evaluate(metric_class=metric_class, results=agent_results)\n",
    "        if metric_class.__name__ not in cumulative_results:\n",
    "            cumulative_results[metric_class.__name__] = {}\n",
    "        cumulative_results[metric_class.__name__].update({agent_name: metric_values})"
   ]
  },
  {
   "cell_type": "code",
   "execution_count": 39,
   "metadata": {},
   "outputs": [
    {
     "data": {
      "text/plain": [
       "dict_keys(['Hits', 'EPC', 'Recall', 'ILD'])"
      ]
     },
     "execution_count": 39,
     "metadata": {},
     "output_type": "execute_result"
    }
   ],
   "source": [
    "cumulative_results.keys()"
   ]
  },
  {
   "cell_type": "code",
   "execution_count": 40,
   "metadata": {},
   "outputs": [
    {
     "data": {
      "text/plain": [
       "dict_keys(['LinearUCB', 'MostPopular', 'EGreedy', 'EnsembleAgent'])"
      ]
     },
     "execution_count": 40,
     "metadata": {},
     "output_type": "execute_result"
    }
   ],
   "source": [
    "cumulative_results[\"Hits\"].keys()"
   ]
  },
  {
   "cell_type": "code",
   "execution_count": 41,
   "metadata": {},
   "outputs": [],
   "source": [
    "all_results = []\n",
    "for metric_name, agent_values in cumulative_results.items():\n",
    "    df_cumulative = pd.DataFrame(columns=[\"Model\", 5, 10, 20, 50, 100])\n",
    "    df_cumulative[\"Model\"] = list(agent_values.keys())\n",
    "    df_cumulative.set_index(\"Model\", inplace=True)\n",
    "    for agent_name, values in agent_values.items():\n",
    "        df_cumulative.loc[agent_name] = [\n",
    "            np.nanmean(list(metric_values.values())) for metric_values in values\n",
    "        ]\n",
    "    df_cumulative.columns = pd.MultiIndex.from_product([[metric_name], df_cumulative.columns])\n",
    "    all_results.append(df_cumulative)"
   ]
  },
  {
   "cell_type": "code",
   "execution_count": 42,
   "metadata": {},
   "outputs": [
    {
     "data": {
      "text/html": [
       "<div>\n",
       "<style scoped>\n",
       "    .dataframe tbody tr th:only-of-type {\n",
       "        vertical-align: middle;\n",
       "    }\n",
       "\n",
       "    .dataframe tbody tr th {\n",
       "        vertical-align: top;\n",
       "    }\n",
       "\n",
       "    .dataframe thead tr th {\n",
       "        text-align: left;\n",
       "    }\n",
       "\n",
       "    .dataframe thead tr:last-of-type th {\n",
       "        text-align: right;\n",
       "    }\n",
       "</style>\n",
       "<table border=\"1\" class=\"dataframe\">\n",
       "  <thead>\n",
       "    <tr>\n",
       "      <th></th>\n",
       "      <th colspan=\"5\" halign=\"left\">Hits</th>\n",
       "      <th colspan=\"5\" halign=\"left\">EPC</th>\n",
       "      <th colspan=\"5\" halign=\"left\">Recall</th>\n",
       "      <th colspan=\"5\" halign=\"left\">ILD</th>\n",
       "    </tr>\n",
       "    <tr>\n",
       "      <th></th>\n",
       "      <th>5</th>\n",
       "      <th>10</th>\n",
       "      <th>20</th>\n",
       "      <th>50</th>\n",
       "      <th>100</th>\n",
       "      <th>5</th>\n",
       "      <th>10</th>\n",
       "      <th>20</th>\n",
       "      <th>50</th>\n",
       "      <th>100</th>\n",
       "      <th>5</th>\n",
       "      <th>10</th>\n",
       "      <th>20</th>\n",
       "      <th>50</th>\n",
       "      <th>100</th>\n",
       "      <th>5</th>\n",
       "      <th>10</th>\n",
       "      <th>20</th>\n",
       "      <th>50</th>\n",
       "      <th>100</th>\n",
       "    </tr>\n",
       "    <tr>\n",
       "      <th>Model</th>\n",
       "      <th></th>\n",
       "      <th></th>\n",
       "      <th></th>\n",
       "      <th></th>\n",
       "      <th></th>\n",
       "      <th></th>\n",
       "      <th></th>\n",
       "      <th></th>\n",
       "      <th></th>\n",
       "      <th></th>\n",
       "      <th></th>\n",
       "      <th></th>\n",
       "      <th></th>\n",
       "      <th></th>\n",
       "      <th></th>\n",
       "      <th></th>\n",
       "      <th></th>\n",
       "      <th></th>\n",
       "      <th></th>\n",
       "      <th></th>\n",
       "    </tr>\n",
       "  </thead>\n",
       "  <tbody>\n",
       "    <tr>\n",
       "      <th>LinearUCB</th>\n",
       "      <td>1.94709</td>\n",
       "      <td>3.529101</td>\n",
       "      <td>6.285714</td>\n",
       "      <td>13.835979</td>\n",
       "      <td>22.57672</td>\n",
       "      <td>0.911348</td>\n",
       "      <td>0.922463</td>\n",
       "      <td>0.934473</td>\n",
       "      <td>0.94796</td>\n",
       "      <td>0.957696</td>\n",
       "      <td>0.054507</td>\n",
       "      <td>0.105812</td>\n",
       "      <td>0.175569</td>\n",
       "      <td>0.331571</td>\n",
       "      <td>0.508525</td>\n",
       "      <td>0.247045</td>\n",
       "      <td>0.281743</td>\n",
       "      <td>0.302369</td>\n",
       "      <td>0.329065</td>\n",
       "      <td>0.352404</td>\n",
       "    </tr>\n",
       "    <tr>\n",
       "      <th>MostPopular</th>\n",
       "      <td>1.666667</td>\n",
       "      <td>2.904762</td>\n",
       "      <td>5.126984</td>\n",
       "      <td>10.063492</td>\n",
       "      <td>16.703704</td>\n",
       "      <td>0.90456</td>\n",
       "      <td>0.911084</td>\n",
       "      <td>0.922276</td>\n",
       "      <td>0.938327</td>\n",
       "      <td>0.947497</td>\n",
       "      <td>0.04906</td>\n",
       "      <td>0.085504</td>\n",
       "      <td>0.13688</td>\n",
       "      <td>0.232438</td>\n",
       "      <td>0.365345</td>\n",
       "      <td>0.259048</td>\n",
       "      <td>0.282381</td>\n",
       "      <td>0.27854</td>\n",
       "      <td>0.291894</td>\n",
       "      <td>0.313466</td>\n",
       "    </tr>\n",
       "    <tr>\n",
       "      <th>EGreedy</th>\n",
       "      <td>1.126984</td>\n",
       "      <td>2.15873</td>\n",
       "      <td>4.010582</td>\n",
       "      <td>8.497354</td>\n",
       "      <td>14.613757</td>\n",
       "      <td>0.941562</td>\n",
       "      <td>0.945466</td>\n",
       "      <td>0.948347</td>\n",
       "      <td>0.953116</td>\n",
       "      <td>0.957866</td>\n",
       "      <td>0.023325</td>\n",
       "      <td>0.043733</td>\n",
       "      <td>0.084292</td>\n",
       "      <td>0.182637</td>\n",
       "      <td>0.318325</td>\n",
       "      <td>0.294796</td>\n",
       "      <td>0.29907</td>\n",
       "      <td>0.310328</td>\n",
       "      <td>0.330818</td>\n",
       "      <td>0.350296</td>\n",
       "    </tr>\n",
       "    <tr>\n",
       "      <th>EnsembleAgent</th>\n",
       "      <td>1.941799</td>\n",
       "      <td>3.550265</td>\n",
       "      <td>6.507937</td>\n",
       "      <td>14.079365</td>\n",
       "      <td>22.804233</td>\n",
       "      <td>0.912394</td>\n",
       "      <td>0.920391</td>\n",
       "      <td>0.931499</td>\n",
       "      <td>0.945274</td>\n",
       "      <td>0.954998</td>\n",
       "      <td>0.054251</td>\n",
       "      <td>0.102216</td>\n",
       "      <td>0.179246</td>\n",
       "      <td>0.350907</td>\n",
       "      <td>0.525458</td>\n",
       "      <td>0.234386</td>\n",
       "      <td>0.281526</td>\n",
       "      <td>0.302593</td>\n",
       "      <td>0.327921</td>\n",
       "      <td>0.350689</td>\n",
       "    </tr>\n",
       "  </tbody>\n",
       "</table>\n",
       "</div>"
      ],
      "text/plain": [
       "                   Hits                                                 EPC  \\\n",
       "                    5         10        20         50         100       5     \n",
       "Model                                                                         \n",
       "LinearUCB       1.94709  3.529101  6.285714  13.835979   22.57672  0.911348   \n",
       "MostPopular    1.666667  2.904762  5.126984  10.063492  16.703704   0.90456   \n",
       "EGreedy        1.126984   2.15873  4.010582   8.497354  14.613757  0.941562   \n",
       "EnsembleAgent  1.941799  3.550265  6.507937  14.079365  22.804233  0.912394   \n",
       "\n",
       "                                                         Recall            \\\n",
       "                    10        20        50        100       5         10    \n",
       "Model                                                                       \n",
       "LinearUCB      0.922463  0.934473   0.94796  0.957696  0.054507  0.105812   \n",
       "MostPopular    0.911084  0.922276  0.938327  0.947497   0.04906  0.085504   \n",
       "EGreedy        0.945466  0.948347  0.953116  0.957866  0.023325  0.043733   \n",
       "EnsembleAgent  0.920391  0.931499  0.945274  0.954998  0.054251  0.102216   \n",
       "\n",
       "                                                  ILD                      \\\n",
       "                    20        50        100       5         10        20    \n",
       "Model                                                                       \n",
       "LinearUCB      0.175569  0.331571  0.508525  0.247045  0.281743  0.302369   \n",
       "MostPopular     0.13688  0.232438  0.365345  0.259048  0.282381   0.27854   \n",
       "EGreedy        0.084292  0.182637  0.318325  0.294796   0.29907  0.310328   \n",
       "EnsembleAgent  0.179246  0.350907  0.525458  0.234386  0.281526  0.302593   \n",
       "\n",
       "                                   \n",
       "                    50        100  \n",
       "Model                              \n",
       "LinearUCB      0.329065  0.352404  \n",
       "MostPopular    0.291894  0.313466  \n",
       "EGreedy        0.330818  0.350296  \n",
       "EnsembleAgent  0.327921  0.350689  "
      ]
     },
     "execution_count": 42,
     "metadata": {},
     "output_type": "execute_result"
    }
   ],
   "source": [
    "all_results = pd.concat(all_results, axis=1)\n",
    "all_results"
   ]
  }
 ],
 "metadata": {
  "kernelspec": {
   "display_name": ".venv",
   "language": "python",
   "name": "python3"
  },
  "language_info": {
   "codemirror_mode": {
    "name": "ipython",
    "version": 3
   },
   "file_extension": ".py",
   "mimetype": "text/x-python",
   "name": "python",
   "nbconvert_exporter": "python",
   "pygments_lexer": "ipython3",
   "version": "3.9.5"
  },
  "orig_nbformat": 4
 },
 "nbformat": 4,
 "nbformat_minor": 2
}
